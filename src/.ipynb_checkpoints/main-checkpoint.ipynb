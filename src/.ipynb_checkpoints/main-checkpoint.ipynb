{
 "cells": [
  {
   "cell_type": "markdown",
   "metadata": {},
   "source": [
    "# IBM Applied Data Science - Capstone Project\n",
    "*Notebook used for submission in capstone project*"
   ]
  },
  {
   "cell_type": "markdown",
   "metadata": {},
   "source": [
    "## Prediction of Car Accident Severity in Seattle, USA\n",
    "\n",
    "The purpose of this exploratory data analysis project is to assess the possibility and accuracy to predict car accident severity in Seattle, USA exploiting collision track records from past accidents that were recorded by the Seattle Police Department (SPD) and provided as open data by Traffic Records.\n",
    "\n",
    "Being able to predict car accident severity from extrenal factors like weather, location, road conditions as well as speeding, influence of alcohol/drugs etc. will allow the government to put appropriate meassures in place to reduce accident severity, but above all, allow the police and first response teams to channel their ressources and increase efficiency\n",
    "\n",
    "Using car accident track records from 2013, the analysis shows, that xxx. "
   ]
  },
  {
   "cell_type": "markdown",
   "metadata": {},
   "source": [
    "### Table of Contents\n",
    "\n",
    "<ol>\n",
    "<li>Introduction</li>\n",
    "<li>Data Overview</li>\n",
    "<li>Methodology</li>\n",
    "<li>Code</li>\n",
    "<li>Results</li>\n",
    "<li>Conclusions</li>\n",
    "\n",
    "</ol>"
   ]
  },
  {
   "cell_type": "markdown",
   "metadata": {},
   "source": [
    "<a id='1_introduction'></a>\n",
    "### 1. Introduction"
   ]
  },
  {
   "cell_type": "markdown",
   "metadata": {},
   "source": [
    "Despite the fact that the US population has increased threefold since the beginning of the 20th century and the total number of cars cracking the 280 million mark in 2019 ([source](https://www.statista.com/statistics/859950/vehicles-in-operation-by-quarter-united-states/)), leading to a whopping 3000 billion miles travelled p.a., fatality rates in traffice continously decline [Fig. 1](#wiki_plot).\n",
    "This decrease of deaths in car accidents is related to measures, enforced by the law (e.g. [seat belt law, 1968](https://en.wikipedia.org/wiki/Seat_belt_laws_in_the_United_States)), advanced safety features (mandatory [air bags](https://www.history.com/this-day-in-history/federal-legislation-makes-airbags-mandatory) (1998)), but also improved road safety.\n",
    "\n",
    "Moreover, thanks to technical advances in computer technology in the last decades, efficient measures can be taken even after an accident happened, e.g. by minimizing the response time of emergency teams and police through the smart analysis of accident records.\n",
    "\n",
    "This project demonstrates how collision records can be analysed and provide insight into predicting car accident severity using the example of Seattle, USA.\n",
    "\n",
    "<a id='wiki_plot'></a>\n",
    "<img src=\"https://upload.wikimedia.org/wikipedia/commons/thumb/4/4f/US_traffic_deaths_per_VMT%2C_VMT%2C_per_capita%2C_and_total_annual_deaths.png/1280px-US_traffic_deaths_per_VMT%2C_VMT%2C_per_capita%2C_and_total_annual_deaths.png\" width=\"700\" >\n",
    "**Fig. 1**: Development of annual car accident fatalities in the US. \n",
    "The graph shows annual US miles traveled (blue), traffic fatalities per billion vehicle miles traveled (red), per million people (orange), total annual deaths (light blue), Vehicle miles travelled (VMT) in 10s of billions (dark blue) and US population in millions (turquise) ([source](https://en.wikipedia.org/wiki/Motor_vehicle_fatality_rate_in_U.S._by_year#/media/File:US_traffic_deaths_per_VMT,_VMT,_per_capita,_and_total_annual_deaths.png)).\n"
   ]
  },
  {
   "cell_type": "markdown",
   "metadata": {},
   "source": [
    "<a id='2_data'></a>\n",
    "### 2. Data Overview"
   ]
  },
  {
   "cell_type": "markdown",
   "metadata": {},
   "source": [
    "The data used in this project is was recorded by the Seattle Police Department (SPD) and provided as open data by Traffic Records. The can be downloaded free of charge from the [Seattle GeoData Portal](https://data-seattlecitygis.opendata.arcgis.com/datasets/5b5c745e0f1f48e7a53acec63a0022ab_0?geometry=-122.326%2C47.592%2C-122.318%2C47.594) and have been acquired since 2004.\n",
    "\n",
    "The dataset used in this study comprises **194673** accidents, recorded and documented in Seattle in 2013.\n",
    "Apart from the target variable, the severity of the collision `SEVERITYCODE`, meta information from 37 additional features are available. These comprise information about location of the accident (e.g. `X`,`Y`,`LOCATION`, `JUNCTIONTYPE`, `CROSSWALKKEY`, `SEGLANEKEY`,`HITPARKEDCAR`, `ADDRTYPE`), external factors (e.g. `LIGHTCOND`, `WEATHER`, `ROADCOND`) or lawlessness (e.g. `INATTENTIONIND`,`UNDERINFL`, `PEDROWNOTGRN`, `SPEEDING`).\n",
    "\n",
    "\n",
    "For additional information about the individual attributes kindly refer to the official corresponding documentation that can be found [here](https://www.seattle.gov/Documents/Departments/SDOT/GIS/Collisions_OD.pdf)."
   ]
  },
  {
   "cell_type": "markdown",
   "metadata": {},
   "source": [
    "<a href='#section2'>Link to the destination'</a>"
   ]
  },
  {
   "cell_type": "markdown",
   "metadata": {},
   "source": []
  },
  {
   "cell_type": "code",
   "execution_count": 9,
   "metadata": {},
   "outputs": [
    {
     "ename": "NameError",
     "evalue": "name 'a' is not defined",
     "output_type": "error",
     "traceback": [
      "\u001b[0;31m---------------------------------------------------------------------------\u001b[0m",
      "\u001b[0;31mNameError\u001b[0m                                 Traceback (most recent call last)",
      "\u001b[0;32m<ipython-input-9-d7c8127a20a3>\u001b[0m in \u001b[0;36m<module>\u001b[0;34m\u001b[0m\n\u001b[0;32m----> 1\u001b[0;31m \u001b[0ma\u001b[0m\u001b[0;34m\u001b[0m\u001b[0;34m\u001b[0m\u001b[0m\n\u001b[0m\u001b[1;32m      2\u001b[0m \u001b[0ma\u001b[0m\u001b[0;34m\u001b[0m\u001b[0;34m\u001b[0m\u001b[0m\n",
      "\u001b[0;31mNameError\u001b[0m: name 'a' is not defined"
     ]
    }
   ],
   "source": [
    "a\n",
    "a"
   ]
  },
  {
   "cell_type": "code",
   "execution_count": 10,
   "metadata": {},
   "outputs": [
    {
     "ename": "NameError",
     "evalue": "name 'a' is not defined",
     "output_type": "error",
     "traceback": [
      "\u001b[0;31m---------------------------------------------------------------------------\u001b[0m",
      "\u001b[0;31mNameError\u001b[0m                                 Traceback (most recent call last)",
      "\u001b[0;32m<ipython-input-10-3f786850e387>\u001b[0m in \u001b[0;36m<module>\u001b[0;34m\u001b[0m\n\u001b[0;32m----> 1\u001b[0;31m \u001b[0ma\u001b[0m\u001b[0;34m\u001b[0m\u001b[0;34m\u001b[0m\u001b[0m\n\u001b[0m",
      "\u001b[0;31mNameError\u001b[0m: name 'a' is not defined"
     ]
    }
   ],
   "source": [
    "a"
   ]
  },
  {
   "cell_type": "markdown",
   "metadata": {},
   "source": [
    "<a id='#section2'></a>\n",
    "text"
   ]
  },
  {
   "cell_type": "code",
   "execution_count": null,
   "metadata": {},
   "outputs": [],
   "source": []
  }
 ],
 "metadata": {
  "kernelspec": {
   "display_name": "py_bootcamp",
   "language": "python",
   "name": "py_bootcamp"
  },
  "language_info": {
   "codemirror_mode": {
    "name": "ipython",
    "version": 3
   },
   "file_extension": ".py",
   "mimetype": "text/x-python",
   "name": "python",
   "nbconvert_exporter": "python",
   "pygments_lexer": "ipython3",
   "version": "3.7.1"
  }
 },
 "nbformat": 4,
 "nbformat_minor": 2
}
